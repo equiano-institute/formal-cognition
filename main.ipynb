{
 "cells": [
  {
   "cell_type": "code",
   "execution_count": 8,
   "metadata": {},
   "outputs": [
    {
     "name": "stdout",
     "output_type": "stream",
     "text": [
      "\u001b[33mDEPRECATION: Configuring installation scheme with distutils config files is deprecated and will no longer work in the near future. If you are using a Homebrew or Linuxbrew Python, please see discussion at https://github.com/Homebrew/homebrew-core/issues/76621\u001b[0m\u001b[33m\n",
      "\u001b[0mRequirement already satisfied: ought-ice in /opt/homebrew/lib/python3.9/site-packages (0.5.0)\n",
      "Requirement already satisfied: defopt in /opt/homebrew/lib/python3.9/site-packages (from ought-ice) (6.4.0)\n",
      "Requirement already satisfied: faker in /opt/homebrew/lib/python3.9/site-packages (from ought-ice) (21.0.0)\n",
      "Requirement already satisfied: fastapi in /opt/homebrew/lib/python3.9/site-packages (from ought-ice) (0.105.0)\n",
      "Requirement already satisfied: fvalues in /opt/homebrew/lib/python3.9/site-packages (from ought-ice) (0.0.4)\n",
      "Requirement already satisfied: httpx in /opt/homebrew/lib/python3.9/site-packages (from ought-ice) (0.24.1)\n",
      "Requirement already satisfied: matplotlib in /opt/homebrew/lib/python3.9/site-packages (from ought-ice) (3.5.1)\n",
      "Requirement already satisfied: merge-args in /opt/homebrew/lib/python3.9/site-packages (from ought-ice) (0.1.5)\n",
      "Requirement already satisfied: more-itertools in /opt/homebrew/lib/python3.9/site-packages (from ought-ice) (9.1.0)\n",
      "Requirement already satisfied: nest-asyncio in /Users/jonaskgomo/Library/Python/3.9/lib/python/site-packages (from ought-ice) (1.5.6)\n",
      "Requirement already satisfied: nltk in /opt/homebrew/lib/python3.9/site-packages (from ought-ice) (3.8.1)\n",
      "Requirement already satisfied: numerizer in /opt/homebrew/lib/python3.9/site-packages (from ought-ice) (0.2.3)\n",
      "Requirement already satisfied: numpy in /opt/homebrew/lib/python3.9/site-packages (from ought-ice) (1.22.0)\n",
      "Requirement already satisfied: pandas in /opt/homebrew/lib/python3.9/site-packages (from ought-ice) (1.3.5)\n",
      "Requirement already satisfied: pydantic in /opt/homebrew/lib/python3.9/site-packages (from ought-ice) (1.10.9)\n",
      "Requirement already satisfied: python-Levenshtein in /opt/homebrew/lib/python3.9/site-packages (from ought-ice) (0.23.0)\n",
      "Requirement already satisfied: python-dotenv in /opt/homebrew/lib/python3.9/site-packages (from ought-ice) (1.0.0)\n",
      "Requirement already satisfied: python-ulid in /opt/homebrew/lib/python3.9/site-packages (from ought-ice) (2.2.0)\n",
      "Requirement already satisfied: questionary in /opt/homebrew/lib/python3.9/site-packages (from ought-ice) (2.0.1)\n",
      "Requirement already satisfied: rich in /opt/homebrew/lib/python3.9/site-packages (from ought-ice) (13.4.2)\n",
      "Requirement already satisfied: rouge-metric in /opt/homebrew/lib/python3.9/site-packages (from ought-ice) (1.0.1)\n",
      "Requirement already satisfied: ruamel.yaml in /opt/homebrew/lib/python3.9/site-packages (from ought-ice) (0.18.5)\n",
      "Requirement already satisfied: scikit-learn in /opt/homebrew/lib/python3.9/site-packages (from ought-ice) (1.3.2)\n",
      "Requirement already satisfied: structlog in /opt/homebrew/lib/python3.9/site-packages (from ought-ice) (23.2.0)\n",
      "Requirement already satisfied: tenacity in /opt/homebrew/lib/python3.9/site-packages (from ought-ice) (8.2.3)\n",
      "Requirement already satisfied: thefuzz in /opt/homebrew/lib/python3.9/site-packages (from ought-ice) (0.20.0)\n",
      "Requirement already satisfied: tqdm in /opt/homebrew/lib/python3.9/site-packages (from ought-ice) (4.65.0)\n",
      "Requirement already satisfied: transformers in /opt/homebrew/lib/python3.9/site-packages (from ought-ice) (4.30.2)\n",
      "Requirement already satisfied: typing-extensions in /opt/homebrew/lib/python3.9/site-packages (from ought-ice) (4.9.0)\n",
      "Requirement already satisfied: uvicorn in /opt/homebrew/lib/python3.9/site-packages (from ought-ice) (0.24.0.post1)\n",
      "Requirement already satisfied: websockets in /opt/homebrew/lib/python3.9/site-packages (from ought-ice) (12.0)\n",
      "Requirement already satisfied: docutils>=0.12 in /opt/homebrew/lib/python3.9/site-packages (from defopt->ought-ice) (0.20.1)\n",
      "Requirement already satisfied: sphinxcontrib-napoleon>=0.7.0 in /opt/homebrew/lib/python3.9/site-packages (from defopt->ought-ice) (0.7)\n",
      "Requirement already satisfied: python-dateutil>=2.4 in /Users/jonaskgomo/Library/Python/3.9/lib/python/site-packages (from faker->ought-ice) (2.8.2)\n",
      "Requirement already satisfied: anyio<4.0.0,>=3.7.1 in /opt/homebrew/lib/python3.9/site-packages (from fastapi->ought-ice) (3.7.1)\n",
      "Requirement already satisfied: starlette<0.28.0,>=0.27.0 in /opt/homebrew/lib/python3.9/site-packages (from fastapi->ought-ice) (0.27.0)\n",
      "Requirement already satisfied: executing in /Users/jonaskgomo/Library/Python/3.9/lib/python/site-packages (from fvalues->ought-ice) (1.2.0)\n",
      "Requirement already satisfied: certifi in /opt/homebrew/lib/python3.9/site-packages (from httpx->ought-ice) (2022.6.15)\n",
      "Requirement already satisfied: httpcore<0.18.0,>=0.15.0 in /opt/homebrew/lib/python3.9/site-packages (from httpx->ought-ice) (0.17.2)\n",
      "Requirement already satisfied: idna in /opt/homebrew/lib/python3.9/site-packages (from httpx->ought-ice) (3.3)\n",
      "Requirement already satisfied: sniffio in /opt/homebrew/lib/python3.9/site-packages (from httpx->ought-ice) (1.2.0)\n",
      "Requirement already satisfied: cycler>=0.10 in /opt/homebrew/lib/python3.9/site-packages (from matplotlib->ought-ice) (0.11.0)\n",
      "Requirement already satisfied: fonttools>=4.22.0 in /opt/homebrew/lib/python3.9/site-packages (from matplotlib->ought-ice) (4.29.1)\n",
      "Requirement already satisfied: kiwisolver>=1.0.1 in /opt/homebrew/lib/python3.9/site-packages (from matplotlib->ought-ice) (1.3.2)\n",
      "Requirement already satisfied: packaging>=20.0 in /Users/jonaskgomo/Library/Python/3.9/lib/python/site-packages (from matplotlib->ought-ice) (23.0)\n",
      "Requirement already satisfied: pillow>=6.2.0 in /opt/homebrew/lib/python3.9/site-packages (from matplotlib->ought-ice) (9.5.0)\n",
      "Requirement already satisfied: pyparsing>=2.2.1 in /opt/homebrew/lib/python3.9/site-packages (from matplotlib->ought-ice) (3.1.1)\n",
      "Requirement already satisfied: click in /opt/homebrew/lib/python3.9/site-packages (from nltk->ought-ice) (8.1.3)\n",
      "Requirement already satisfied: joblib in /opt/homebrew/lib/python3.9/site-packages (from nltk->ought-ice) (1.3.2)\n",
      "Requirement already satisfied: regex>=2021.8.3 in /opt/homebrew/lib/python3.9/site-packages (from nltk->ought-ice) (2023.6.3)\n",
      "Requirement already satisfied: pytz>=2017.3 in /opt/homebrew/lib/python3.9/site-packages (from pandas->ought-ice) (2021.3)\n",
      "Requirement already satisfied: Levenshtein==0.23.0 in /opt/homebrew/lib/python3.9/site-packages (from python-Levenshtein->ought-ice) (0.23.0)\n",
      "Requirement already satisfied: rapidfuzz<4.0.0,>=3.1.0 in /opt/homebrew/lib/python3.9/site-packages (from Levenshtein==0.23.0->python-Levenshtein->ought-ice) (3.5.2)\n",
      "Requirement already satisfied: prompt_toolkit<=3.0.36,>=2.0 in /Users/jonaskgomo/Library/Python/3.9/lib/python/site-packages (from questionary->ought-ice) (3.0.36)\n",
      "Requirement already satisfied: markdown-it-py>=2.2.0 in /opt/homebrew/lib/python3.9/site-packages (from rich->ought-ice) (3.0.0)\n",
      "Requirement already satisfied: pygments<3.0.0,>=2.13.0 in /Users/jonaskgomo/Library/Python/3.9/lib/python/site-packages (from rich->ought-ice) (2.14.0)\n",
      "Requirement already satisfied: ruamel.yaml.clib>=0.2.7 in /opt/homebrew/lib/python3.9/site-packages (from ruamel.yaml->ought-ice) (0.2.8)\n",
      "Requirement already satisfied: scipy>=1.5.0 in /opt/homebrew/lib/python3.9/site-packages (from scikit-learn->ought-ice) (1.11.2)\n",
      "Requirement already satisfied: threadpoolctl>=2.0.0 in /opt/homebrew/lib/python3.9/site-packages (from scikit-learn->ought-ice) (3.2.0)\n",
      "Requirement already satisfied: filelock in /opt/homebrew/lib/python3.9/site-packages (from transformers->ought-ice) (3.12.2)\n",
      "Requirement already satisfied: huggingface-hub<1.0,>=0.14.1 in /opt/homebrew/lib/python3.9/site-packages (from transformers->ought-ice) (0.15.1)\n",
      "Requirement already satisfied: pyyaml>=5.1 in /opt/homebrew/lib/python3.9/site-packages (from transformers->ought-ice) (6.0)\n",
      "Requirement already satisfied: requests in /opt/homebrew/lib/python3.9/site-packages (from transformers->ought-ice) (2.31.0)\n",
      "Requirement already satisfied: tokenizers!=0.11.3,<0.14,>=0.11.1 in /opt/homebrew/lib/python3.9/site-packages (from transformers->ought-ice) (0.13.3)\n",
      "Requirement already satisfied: safetensors>=0.3.1 in /opt/homebrew/lib/python3.9/site-packages (from transformers->ought-ice) (0.3.1)\n",
      "Requirement already satisfied: h11>=0.8 in /opt/homebrew/lib/python3.9/site-packages (from uvicorn->ought-ice) (0.14.0)\n",
      "Requirement already satisfied: exceptiongroup in /opt/homebrew/lib/python3.9/site-packages (from anyio<4.0.0,>=3.7.1->fastapi->ought-ice) (1.1.1)\n",
      "Requirement already satisfied: fsspec in /opt/homebrew/lib/python3.9/site-packages (from huggingface-hub<1.0,>=0.14.1->transformers->ought-ice) (2023.6.0)\n",
      "Requirement already satisfied: mdurl~=0.1 in /opt/homebrew/lib/python3.9/site-packages (from markdown-it-py>=2.2.0->rich->ought-ice) (0.1.2)\n",
      "Requirement already satisfied: wcwidth in /Users/jonaskgomo/Library/Python/3.9/lib/python/site-packages (from prompt_toolkit<=3.0.36,>=2.0->questionary->ought-ice) (0.2.6)\n",
      "Requirement already satisfied: six>=1.5 in /opt/homebrew/lib/python3.9/site-packages (from python-dateutil>=2.4->faker->ought-ice) (1.16.0)\n",
      "Requirement already satisfied: pockets>=0.3 in /opt/homebrew/lib/python3.9/site-packages (from sphinxcontrib-napoleon>=0.7.0->defopt->ought-ice) (0.9.1)\n",
      "Requirement already satisfied: charset-normalizer<4,>=2 in /opt/homebrew/lib/python3.9/site-packages (from requests->transformers->ought-ice) (2.1.0)\n",
      "Requirement already satisfied: urllib3<3,>=1.21.1 in /opt/homebrew/lib/python3.9/site-packages (from requests->transformers->ought-ice) (1.26.11)\n",
      "\u001b[33mDEPRECATION: Configuring installation scheme with distutils config files is deprecated and will no longer work in the near future. If you are using a Homebrew or Linuxbrew Python, please see discussion at https://github.com/Homebrew/homebrew-core/issues/76621\u001b[0m\u001b[33m\n",
      "\u001b[0m\n",
      "\u001b[1m[\u001b[0m\u001b[34;49mnotice\u001b[0m\u001b[1;39;49m]\u001b[0m\u001b[39;49m A new release of pip is available: \u001b[0m\u001b[31;49m23.2.1\u001b[0m\u001b[39;49m -> \u001b[0m\u001b[32;49m23.3.2\u001b[0m\n",
      "\u001b[1m[\u001b[0m\u001b[34;49mnotice\u001b[0m\u001b[1;39;49m]\u001b[0m\u001b[39;49m To update, run: \u001b[0m\u001b[32;49mpython3.9 -m pip install --upgrade pip\u001b[0m\n",
      "Note: you may need to restart the kernel to use updated packages.\n"
     ]
    }
   ],
   "source": [
    "pip install ought-ice"
   ]
  },
  {
   "cell_type": "code",
   "execution_count": 11,
   "metadata": {},
   "outputs": [
    {
     "name": "stdout",
     "output_type": "stream",
     "text": [
      "\u001b[33mDEPRECATION: Configuring installation scheme with distutils config files is deprecated and will no longer work in the near future. If you are using a Homebrew or Linuxbrew Python, please see discussion at https://github.com/Homebrew/homebrew-core/issues/76621\u001b[0m\u001b[33m\n",
      "\u001b[0mRequirement already satisfied: pip in /opt/homebrew/lib/python3.9/site-packages (23.2.1)\n",
      "Collecting pip\n",
      "  Obtaining dependency information for pip from https://files.pythonhosted.org/packages/15/aa/3f4c7bcee2057a76562a5b33ecbd199be08cdb4443a02e26bd2c3cf6fc39/pip-23.3.2-py3-none-any.whl.metadata\n",
      "  Downloading pip-23.3.2-py3-none-any.whl.metadata (3.5 kB)\n",
      "Downloading pip-23.3.2-py3-none-any.whl (2.1 MB)\n",
      "\u001b[2K   \u001b[90m━━━━━━━━━━━━━━━━━━━━━━━━━━━━━━━━━━━━━━━━\u001b[0m \u001b[32m2.1/2.1 MB\u001b[0m \u001b[31m511.2 kB/s\u001b[0m eta \u001b[36m0:00:00\u001b[0m00:01\u001b[0m00:01\u001b[0m\n",
      "\u001b[?25hInstalling collected packages: pip\n",
      "  Attempting uninstall: pip\n",
      "    Found existing installation: pip 23.2.1\n",
      "    Uninstalling pip-23.2.1:\n",
      "      Successfully uninstalled pip-23.2.1\n",
      "\u001b[33m  DEPRECATION: Configuring installation scheme with distutils config files is deprecated and will no longer work in the near future. If you are using a Homebrew or Linuxbrew Python, please see discussion at https://github.com/Homebrew/homebrew-core/issues/76621\u001b[0m\u001b[33m\n",
      "\u001b[0m\u001b[33mDEPRECATION: Configuring installation scheme with distutils config files is deprecated and will no longer work in the near future. If you are using a Homebrew or Linuxbrew Python, please see discussion at https://github.com/Homebrew/homebrew-core/issues/76621\u001b[0m\u001b[33m\n",
      "\u001b[0mSuccessfully installed pip-23.3.2\n",
      "Note: you may need to restart the kernel to use updated packages.\n"
     ]
    }
   ],
   "source": [
    "pip install --upgrade pip"
   ]
  },
  {
   "cell_type": "code",
   "execution_count": 2,
   "metadata": {},
   "outputs": [],
   "source": [
    "from ice.recipe import recipe\n"
   ]
  },
  {
   "cell_type": "code",
   "execution_count": 18,
   "metadata": {},
   "outputs": [
    {
     "name": "stderr",
     "output_type": "stream",
     "text": [
      "usage: ipykernel_launcher.py [-h] [--question QUESTION]\n",
      "                             [--mode {human,augmented,augmented-cached,machine,fake,test,approval,machine-cached}]\n",
      "                             [--trace | --no-trace] [--version]\n",
      "ipykernel_launcher.py: error: unrecognized arguments: --f=/Users/jonaskgomo/Library/Jupyter/runtime/kernel-v2-35060jP90efFEqHZn.json\n"
     ]
    },
    {
     "ename": "SystemExit",
     "evalue": "2",
     "output_type": "error",
     "traceback": [
      "An exception has occurred, use %tb to see the full traceback.\n",
      "\u001b[0;31mSystemExit\u001b[0m\u001b[0;31m:\u001b[0m 2\n"
     ]
    }
   ],
   "source": [
    "recipe"
   ]
  },
  {
   "cell_type": "code",
   "execution_count": null,
   "metadata": {},
   "outputs": [],
   "source": []
  },
  {
   "cell_type": "markdown",
   "metadata": {},
   "source": []
  }
 ],
 "metadata": {
  "kernelspec": {
   "display_name": "Python 3",
   "language": "python",
   "name": "python3"
  },
  "language_info": {
   "codemirror_mode": {
    "name": "ipython",
    "version": 3
   },
   "file_extension": ".py",
   "mimetype": "text/x-python",
   "name": "python",
   "nbconvert_exporter": "python",
   "pygments_lexer": "ipython3",
   "version": "3.9.17"
  }
 },
 "nbformat": 4,
 "nbformat_minor": 2
}
